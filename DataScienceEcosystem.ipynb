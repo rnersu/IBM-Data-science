{
 "cells": [
  {
   "cell_type": "code",
   "execution_count": 2,
   "id": "02c84553",
   "metadata": {},
   "outputs": [],
   "source": [
    "\n",
    "\n",
    "# Data Science Tools and Ecosystem\n"
   ]
  },
  {
   "cell_type": "code",
   "execution_count": null,
   "id": "fa87e9ab",
   "metadata": {},
   "outputs": [],
   "source": [
    "Exercise 3:\n",
    "\n",
    "\n",
    "\n",
    "## Introduction Welcome to this data science notebook! In this notebook, we will explore various concepts and techniques in data science.\n",
    "\n",
    "\n"
   ]
  },
  {
   "cell_type": "code",
   "execution_count": null,
   "id": "7bdaaecc",
   "metadata": {},
   "outputs": [],
   "source": [
    "Exercise 4:\n",
    "\n",
    "\n",
    "\n",
    "## Data Science Languages\n",
    "\n",
    "- Python\n",
    "- R\n",
    "- SQL\n",
    "- Julia\n"
   ]
  },
  {
   "cell_type": "code",
   "execution_count": null,
   "id": "773c428e",
   "metadata": {},
   "outputs": [],
   "source": [
    "Exercise 5:\n",
    "\n",
    "\n",
    "\n",
    "## Data Science Libraries\n",
    "\n",
    "- NumPy\n",
    "- Pandas\n",
    "- Matplotlib\n",
    "- Seaborn\n",
    "- Scikit-learn\n",
    "- TensorFlow\n",
    "- PyTorch\n"
   ]
  },
  {
   "cell_type": "code",
   "execution_count": null,
   "id": "56a62363",
   "metadata": {},
   "outputs": [],
   "source": [
    "Exercise 6:\n",
    "\n",
    "\n",
    "\n",
    "## Data Science Tools\n",
    "\n",
    "| Tool         | Description                              |\n",
    "|--------------|------------------------------------------|\n",
    "| Jupyter      | Interactive computing                    |\n",
    "| Anaconda     | Python distribution and package manager  |\n",
    "| Git          | Version control system                   |\n",
    "| Docker       | Containerization platform                |\n",
    "| Apache Spark | Distributed computing framework          |\n"
   ]
  },
  {
   "cell_type": "code",
   "execution_count": null,
   "id": "dbc872a0",
   "metadata": {},
   "outputs": [],
   "source": [
    "Exercise 7:\n",
    "\n",
    "\n",
    "\n",
    "## Let's explore some examples of arithmetic expressions in this notebook.\n"
   ]
  },
  {
   "cell_type": "code",
   "execution_count": 4,
   "id": "0ef16f03",
   "metadata": {},
   "outputs": [
    {
     "name": "stdout",
     "output_type": "stream",
     "text": [
      "Result: 23\n"
     ]
    }
   ],
   "source": [
    "#Exercise 8:\n",
    "\n",
    "#python\n",
    "\n",
    "# Multiply and add numbers\n",
    "a = 5\n",
    "b = 3\n",
    "result = a * b + (a + b)\n",
    "print(\"Result:\", result)\n"
   ]
  },
  {
   "cell_type": "code",
   "execution_count": 5,
   "id": "b142f5b8",
   "metadata": {},
   "outputs": [
    {
     "name": "stdout",
     "output_type": "stream",
     "text": [
      "Hours: 2.0\n"
     ]
    }
   ],
   "source": [
    "#Exercise 9:\n",
    "\n",
    "#python\n",
    "\n",
    "# Convert minutes to hours\n",
    "minutes = 120\n",
    "hours = minutes / 60\n",
    "print(\"Hours:\", hours)\n"
   ]
  },
  {
   "cell_type": "code",
   "execution_count": null,
   "id": "0e8eee06",
   "metadata": {},
   "outputs": [],
   "source": [
    "Exercise 10:\n",
    "\n",
    "\n",
    "\n",
    "## Objectives\n",
    "\n",
    "- Learn about data science languages and libraries.\n",
    "- Understand basic arithmetic operations.\n",
    "- Explore data science tools.\n",
    "\n"
   ]
  },
  {
   "cell_type": "code",
   "execution_count": null,
   "id": "269111e9",
   "metadata": {},
   "outputs": [],
   "source": [
    "Exercise 11:\n",
    "\n",
    "\n",
    "\n",
    "## Author\n",
    "#Ravi "
   ]
  }
 ],
 "metadata": {
  "kernelspec": {
   "display_name": "Python 3 (ipykernel)",
   "language": "python",
   "name": "python3"
  },
  "language_info": {
   "codemirror_mode": {
    "name": "ipython",
    "version": 3
   },
   "file_extension": ".py",
   "mimetype": "text/x-python",
   "name": "python",
   "nbconvert_exporter": "python",
   "pygments_lexer": "ipython3",
   "version": "3.11.3"
  }
 },
 "nbformat": 4,
 "nbformat_minor": 5
}
